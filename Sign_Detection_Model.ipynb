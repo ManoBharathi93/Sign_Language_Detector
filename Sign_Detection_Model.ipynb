{
  "nbformat": 4,
  "nbformat_minor": 0,
  "metadata": {
    "colab": {
      "provenance": [],
      "gpuType": "T4"
    },
    "kernelspec": {
      "name": "python3",
      "display_name": "Python 3"
    },
    "language_info": {
      "name": "python"
    },
    "accelerator": "GPU"
  },
  "cells": [
    {
      "cell_type": "markdown",
      "source": [
        "# Importing Libraries"
      ],
      "metadata": {
        "id": "QE-TFrd0A56A"
      }
    },
    {
      "cell_type": "code",
      "source": [
        "import numpy as np\n",
        "import pandas as pd\n",
        "import seaborn as sns\n",
        "import string\n",
        "import os\n",
        "import matplotlib.pyplot as plt\n",
        "%matplotlib inline\n",
        "\n",
        "import torch\n",
        "import torch.nn as nn\n",
        "import torch.nn.functional as F\n",
        "import torch.optim as optim\n",
        "from torchsummary import summary\n",
        "from torch.autograd import Variable"
      ],
      "metadata": {
        "id": "ugHQ2N7hA85_"
      },
      "execution_count": 219,
      "outputs": []
    },
    {
      "cell_type": "markdown",
      "source": [
        "# Device"
      ],
      "metadata": {
        "id": "-mlTh-XfPMUA"
      }
    },
    {
      "cell_type": "code",
      "source": [
        "device  = 'cuda' if torch.cuda.is_available() else 'cpu'\n",
        "device"
      ],
      "metadata": {
        "colab": {
          "base_uri": "https://localhost:8080/",
          "height": 36
        },
        "id": "UVPTDAVTPOWA",
        "outputId": "8d07c361-b711-4b00-b11b-22136bbbd109"
      },
      "execution_count": 196,
      "outputs": [
        {
          "output_type": "execute_result",
          "data": {
            "text/plain": [
              "'cuda'"
            ],
            "application/vnd.google.colaboratory.intrinsic+json": {
              "type": "string"
            }
          },
          "metadata": {},
          "execution_count": 196
        }
      ]
    },
    {
      "cell_type": "markdown",
      "source": [
        "# Loading Dataset"
      ],
      "metadata": {
        "id": "nO-I9R6X6xlz"
      }
    },
    {
      "cell_type": "code",
      "execution_count": 200,
      "metadata": {
        "colab": {
          "base_uri": "https://localhost:8080/"
        },
        "id": "fyHWR_i10vDa",
        "outputId": "24e6ff38-e282-4288-b86d-736701933a06"
      },
      "outputs": [
        {
          "output_type": "stream",
          "name": "stdout",
          "text": [
            "Drive already mounted at /content/drive; to attempt to forcibly remount, call drive.mount(\"/content/drive\", force_remount=True).\n"
          ]
        }
      ],
      "source": [
        "from google.colab import drive\n",
        "drive.mount('/content/drive')\n",
        "train = pd.read_csv('/content/drive/MyDrive/sing_minst/sign_mnist_train/sign_mnist_train.csv')\n",
        "test = pd.read_csv('/content/drive/MyDrive/sing_minst/sign_mnist_test/sign_mnist_test.csv')\n",
        "\n"
      ]
    },
    {
      "cell_type": "markdown",
      "source": [
        "# Images and Labels"
      ],
      "metadata": {
        "id": "8ABIIqKGrql-"
      }
    },
    {
      "cell_type": "code",
      "source": [
        "train_labels = train['label']\n",
        "train.drop('label',axis=1,inplace=True)\n",
        "\n",
        "test_labels = test['label']\n",
        "test.drop('label',axis=1, inplace=True)\n",
        "\n",
        "train_data = train.values\n",
        "train_labels = train_labels.values\n",
        "\n",
        "test_data = test.values\n",
        "test_labels = test_labels.values"
      ],
      "metadata": {
        "id": "qNBweENvcXZ6"
      },
      "execution_count": 201,
      "outputs": []
    },
    {
      "cell_type": "code",
      "source": [
        "pixels = train_data[2].reshape(28,28)\n",
        "plt.subplot(221)\n",
        "sns.heatmap(data=pixels)\n",
        "pixels = train_data[5].reshape(28,28)\n",
        "plt.subplot(222)\n",
        "sns.heatmap(data=pixels)"
      ],
      "metadata": {
        "colab": {
          "base_uri": "https://localhost:8080/",
          "height": 248
        },
        "id": "IOWEul4mjb1X",
        "outputId": "d6dc71af-c62e-434c-bcde-1ff968a42fb0"
      },
      "execution_count": 210,
      "outputs": [
        {
          "output_type": "execute_result",
          "data": {
            "text/plain": [
              "<Axes: >"
            ]
          },
          "metadata": {},
          "execution_count": 210
        },
        {
          "output_type": "display_data",
          "data": {
            "text/plain": [
              "<Figure size 640x480 with 4 Axes>"
            ],
            "image/png": "[encoded data removed]"
          },
          "metadata": {}
        }
      ]
    },
    {
      "cell_type": "markdown",
      "source": [
        "#Distribution of data"
      ],
      "metadata": {
        "id": "0pENFQvGGFi8"
      }
    },
    {
      "cell_type": "code",
      "source": [
        "plt.figure(figsize=(6, 6))\n",
        "sns.set_style(\"darkgrid\")\n",
        "sns.countplot(data=train,x='label')\n",
        "\n",
        "plt.xlabel('Label')\n",
        "plt.ylabel('Count')\n",
        "plt.title('Distribution of Labels')\n",
        "\n",
        "plt.show()"
      ],
      "metadata": {
        "colab": {
          "base_uri": "https://localhost:8080/",
          "height": 564
        },
        "id": "X0n7tOgGGEgx",
        "outputId": "30f733d9-6c95-4fff-e34d-9cbd20e32766"
      },
      "execution_count": 125,
      "outputs": [
        {
          "output_type": "display_data",
          "data": {
            "text/plain": [
              "<Figure size 600x600 with 1 Axes>"
            ],
            "image/png": "[encoded data removed]"
          },
          "metadata": {}
        }
      ]
    },
    {
      "cell_type": "markdown",
      "source": [
        "# Pre-processing"
      ],
      "metadata": {
        "id": "kZvfNhLMA0VR"
      }
    },
    {
      "cell_type": "code",
      "source": [
        "reshaped_train = []\n",
        "\n",
        "for i in train_data:\n",
        "  reshaped_train.append(i.reshape(1,28,28))\n",
        "train_data = np.array(reshaped_train)\n",
        "reshaped_test = []\n",
        "for i in test_data:\n",
        "    reshaped_test.append(i.reshape(1, 28,28))\n",
        "test_data = np.array(reshaped_train)\n",
        "\n",
        "train_x = torch.FloatTensor(train_data)\n",
        "train_y = torch.LongTensor(train_labels.tolist())\n",
        "\n",
        "test_x = torch.FloatTensor(train_data)\n",
        "test_y = torch.LongTensor(train_labels.tolist())\n"
      ],
      "metadata": {
        "id": "iabTrM3Z_NFT"
      },
      "execution_count": 211,
      "outputs": []
    },
    {
      "cell_type": "markdown",
      "source": [
        "# Model"
      ],
      "metadata": {
        "id": "JQ_niEuKI_KK"
      }
    },
    {
      "cell_type": "code",
      "source": [
        "class Network(nn.Module):\n",
        "    def __init__(self):\n",
        "        super(Network, self).__init__()\n",
        "        self.conv1 = nn.Conv2d(1,10,3)\n",
        "        self.conv2 = nn.Conv2d(10,20,3)\n",
        "        self.conv3 = nn.Conv2d(20,30,3)\n",
        "\n",
        "        self.pool = nn.MaxPool2d(2)\n",
        "        self.dropout = nn.Dropout2d(0.2)\n",
        "\n",
        "        self.fc1 = nn.Linear(30*3*3, 270)\n",
        "        self.fc2 = nn.Linear(270,26)\n",
        "\n",
        "        self.softmax = nn.LogSoftmax(dim=1)\n",
        "\n",
        "    def forward(self,x):\n",
        "        x = self.conv1(x)\n",
        "        x = F.relu(x)\n",
        "        x = self.pool(x)\n",
        "\n",
        "        x = self.conv2(x)\n",
        "        x = F.relu(x)\n",
        "        x = self.pool(x)\n",
        "\n",
        "        x = self.conv3(x)\n",
        "        x = F.relu(x)\n",
        "        x = self.dropout(x)\n",
        "\n",
        "        x = x.view(-1, 30 * 3 * 3)\n",
        "        x = F.relu(self.fc1(x))\n",
        "        x = self.softmax(F.relu(self.fc2(x)))\n",
        "\n",
        "        return(x)\n",
        "\n",
        "    def test(self, predictions,labels):\n",
        "        self.eval()\n",
        "        correct = 0\n",
        "        for p,l in zip(predictions,labels):\n",
        "            if p==l:\n",
        "                correct+=1\n",
        "        acc = correct/len(predictions)\n",
        "        return(acc, correct, len(predictions))\n",
        "\n",
        "    def evaluate(self, predictions,labels):\n",
        "        correct = 0\n",
        "        for p,l in zip(predictions,labels):\n",
        "            if p==l:\n",
        "                correct+=1\n",
        "        acc = correct/len(predictions)\n",
        "        return(acc)"
      ],
      "metadata": {
        "id": "q7m_IW2QI-xa"
      },
      "execution_count": 225,
      "outputs": []
    },
    {
      "cell_type": "code",
      "source": [
        "model  = Network()\n",
        "model.to(device)\n"
      ],
      "metadata": {
        "colab": {
          "base_uri": "https://localhost:8080/"
        },
        "id": "VcVChIH-VMyv",
        "outputId": "b3af1b83-9ad9-488e-9033-59072ff03a3b"
      },
      "execution_count": 226,
      "outputs": [
        {
          "output_type": "execute_result",
          "data": {
            "text/plain": [
              "Network(\n",
              "  (conv1): Conv2d(1, 10, kernel_size=(3, 3), stride=(1, 1))\n",
              "  (conv2): Conv2d(10, 20, kernel_size=(3, 3), stride=(1, 1))\n",
              "  (conv3): Conv2d(20, 30, kernel_size=(3, 3), stride=(1, 1))\n",
              "  (pool): MaxPool2d(kernel_size=2, stride=2, padding=0, dilation=1, ceil_mode=False)\n",
              "  (dropout): Dropout2d(p=0.2, inplace=False)\n",
              "  (fc1): Linear(in_features=270, out_features=270, bias=True)\n",
              "  (fc2): Linear(in_features=270, out_features=26, bias=True)\n",
              "  (softmax): LogSoftmax(dim=1)\n",
              ")"
            ]
          },
          "metadata": {},
          "execution_count": 226
        }
      ]
    },
    {
      "cell_type": "code",
      "source": [
        "summary(model,(1,28,28))"
      ],
      "metadata": {
        "colab": {
          "base_uri": "https://localhost:8080/"
        },
        "id": "v47JeQe7njsn",
        "outputId": "501b3cb5-32f0-4f15-d4d0-e81cae81b54a"
      },
      "execution_count": 227,
      "outputs": [
        {
          "output_type": "stream",
          "name": "stdout",
          "text": [
            "----------------------------------------------------------------\n",
            "        Layer (type)               Output Shape         Param #\n",
            "================================================================\n",
            "            Conv2d-1           [-1, 10, 26, 26]             100\n",
            "         MaxPool2d-2           [-1, 10, 13, 13]               0\n",
            "            Conv2d-3           [-1, 20, 11, 11]           1,820\n",
            "         MaxPool2d-4             [-1, 20, 5, 5]               0\n",
            "            Conv2d-5             [-1, 30, 3, 3]           5,430\n",
            "         Dropout2d-6             [-1, 30, 3, 3]               0\n",
            "            Linear-7                  [-1, 270]          73,170\n",
            "            Linear-8                   [-1, 26]           7,046\n",
            "        LogSoftmax-9                   [-1, 26]               0\n",
            "================================================================\n",
            "Total params: 87,566\n",
            "Trainable params: 87,566\n",
            "Non-trainable params: 0\n",
            "----------------------------------------------------------------\n",
            "Input size (MB): 0.00\n",
            "Forward/backward pass size (MB): 0.09\n",
            "Params size (MB): 0.33\n",
            "Estimated Total Size (MB): 0.43\n",
            "----------------------------------------------------------------\n"
          ]
        }
      ]
    },
    {
      "cell_type": "markdown",
      "source": [
        "# Loss & Gradient"
      ],
      "metadata": {
        "id": "AM9HnutQrxOZ"
      }
    },
    {
      "cell_type": "code",
      "source": [
        "epochs = 80\n",
        "batch_size = 64\n",
        "learning_rate = 0.001\n",
        "\n",
        "optimizer = optim.SGD(model.parameters(),learning_rate,momentum=0.09)\n",
        "loss_fn = nn.CrossEntropyLoss()\n"
      ],
      "metadata": {
        "id": "_jpANNFzoJFn"
      },
      "execution_count": 228,
      "outputs": []
    },
    {
      "cell_type": "code",
      "source": [
        "train_x.shape"
      ],
      "metadata": {
        "colab": {
          "base_uri": "https://localhost:8080/"
        },
        "id": "oU614qLXpgJv",
        "outputId": "add466b7-d895-42f6-f9d3-fc95de01e94d"
      },
      "execution_count": 230,
      "outputs": [
        {
          "output_type": "execute_result",
          "data": {
            "text/plain": [
              "torch.Size([27455, 1, 28, 28])"
            ]
          },
          "metadata": {},
          "execution_count": 230
        }
      ]
    },
    {
      "cell_type": "markdown",
      "source": [
        "# Training"
      ],
      "metadata": {
        "id": "7M7efEiEr2u3"
      }
    },
    {
      "cell_type": "code",
      "source": [
        "loss_log = []\n",
        "acc_log = []\n",
        "for e in range(epochs):\n",
        "    for i in range(0,train_x.shape[0],100):\n",
        "\n",
        "          x_batch = train_x[i:i+100]\n",
        "          y_batch = train_y[i:i+100]\n",
        "\n",
        "          x_batch = x_batch.to(device)\n",
        "          y_batch = y_batch.to(device)\n",
        "          test_x = test_x.to(device)\n",
        "          test_y = test_y.to(device)\n",
        "\n",
        "          optimizer.zero_grad()\n",
        "          out = model(Variable(x_batch))\n",
        "          loss = loss_fn(out,Variable(y_batch))\n",
        "          loss.backward()\n",
        "          optimizer.step()\n",
        "\n",
        "          if i % 1000 ==0:\n",
        "                loss_log.append(loss.item())\n",
        "                acc_log.append(model.evaluate(torch.max(model(Variable(test_x[:500])).data, 1)[1], test_y[:500]))\n",
        "    print('Epoch: {} - Loss: {:.6f}'.format(e + 1, loss.item()))\n",
        ""
      ],
      "metadata": {
        "colab": {
          "base_uri": "https://localhost:8080/"
        },
        "id": "mM7piOacpI4v",
        "outputId": "3aa6d489-169c-4636-8554-b24b51691a7e"
      },
      "execution_count": 233,
      "outputs": [
        {
          "output_type": "stream",
          "name": "stdout",
          "text": [
            "Epoch: 1 - Loss: 2.739620\n",
            "Epoch: 2 - Loss: 2.216329\n",
            "Epoch: 3 - Loss: 1.974249\n",
            "Epoch: 4 - Loss: 1.738298\n",
            "Epoch: 5 - Loss: 1.424565\n",
            "Epoch: 6 - Loss: 1.417815\n",
            "Epoch: 7 - Loss: 1.029513\n",
            "Epoch: 8 - Loss: 0.878056\n",
            "Epoch: 9 - Loss: 0.759117\n",
            "Epoch: 10 - Loss: 0.752942\n",
            "Epoch: 11 - Loss: 0.697875\n",
            "Epoch: 12 - Loss: 0.577122\n",
            "Epoch: 13 - Loss: 0.602959\n",
            "Epoch: 14 - Loss: 0.548663\n",
            "Epoch: 15 - Loss: 0.432002\n",
            "Epoch: 16 - Loss: 0.363994\n",
            "Epoch: 17 - Loss: 0.237942\n",
            "Epoch: 18 - Loss: 0.407906\n",
            "Epoch: 19 - Loss: 0.303890\n",
            "Epoch: 20 - Loss: 0.329136\n",
            "Epoch: 21 - Loss: 0.315722\n",
            "Epoch: 22 - Loss: 0.153746\n",
            "Epoch: 23 - Loss: 0.258005\n",
            "Epoch: 24 - Loss: 0.120594\n",
            "Epoch: 25 - Loss: 0.223308\n",
            "Epoch: 26 - Loss: 0.032537\n",
            "Epoch: 27 - Loss: 0.068808\n",
            "Epoch: 28 - Loss: 0.073013\n",
            "Epoch: 29 - Loss: 0.026370\n",
            "Epoch: 30 - Loss: 0.052802\n",
            "Epoch: 31 - Loss: 0.103265\n",
            "Epoch: 32 - Loss: 0.089270\n",
            "Epoch: 33 - Loss: 0.067743\n",
            "Epoch: 34 - Loss: 0.021894\n",
            "Epoch: 35 - Loss: 0.040215\n",
            "Epoch: 36 - Loss: 0.116054\n",
            "Epoch: 37 - Loss: 0.011792\n",
            "Epoch: 38 - Loss: 0.036455\n",
            "Epoch: 39 - Loss: 0.114897\n",
            "Epoch: 40 - Loss: 0.010574\n",
            "Epoch: 41 - Loss: 0.016871\n",
            "Epoch: 42 - Loss: 0.075218\n",
            "Epoch: 43 - Loss: 0.019685\n",
            "Epoch: 44 - Loss: 0.006087\n",
            "Epoch: 45 - Loss: 0.028801\n",
            "Epoch: 46 - Loss: 0.008067\n",
            "Epoch: 47 - Loss: 0.045466\n",
            "Epoch: 48 - Loss: 0.007879\n",
            "Epoch: 49 - Loss: 0.023567\n",
            "Epoch: 50 - Loss: 0.042094\n",
            "Epoch: 51 - Loss: 0.040003\n",
            "Epoch: 52 - Loss: 0.016153\n",
            "Epoch: 53 - Loss: 0.003024\n",
            "Epoch: 54 - Loss: 0.043699\n",
            "Epoch: 55 - Loss: 0.008075\n",
            "Epoch: 56 - Loss: 0.033173\n",
            "Epoch: 57 - Loss: 0.008230\n",
            "Epoch: 58 - Loss: 0.123974\n",
            "Epoch: 59 - Loss: 0.019921\n",
            "Epoch: 60 - Loss: 0.011034\n",
            "Epoch: 61 - Loss: 0.008956\n",
            "Epoch: 62 - Loss: 0.002377\n",
            "Epoch: 63 - Loss: 0.003935\n",
            "Epoch: 64 - Loss: 0.007455\n",
            "Epoch: 65 - Loss: 0.076001\n",
            "Epoch: 66 - Loss: 0.009201\n",
            "Epoch: 67 - Loss: 0.005318\n",
            "Epoch: 68 - Loss: 0.014652\n",
            "Epoch: 69 - Loss: 0.004627\n",
            "Epoch: 70 - Loss: 0.001227\n",
            "Epoch: 71 - Loss: 0.016413\n",
            "Epoch: 72 - Loss: 0.001831\n",
            "Epoch: 73 - Loss: 0.028258\n",
            "Epoch: 74 - Loss: 0.029986\n",
            "Epoch: 75 - Loss: 0.049571\n",
            "Epoch: 76 - Loss: 0.003438\n",
            "Epoch: 77 - Loss: 0.002929\n",
            "Epoch: 78 - Loss: 0.001593\n",
            "Epoch: 79 - Loss: 0.003670\n",
            "Epoch: 80 - Loss: 0.002276\n"
          ]
        }
      ]
    },
    {
      "cell_type": "code",
      "source": [
        "plt.figure(figsize=(10,8))\n",
        "plt.plot(loss_log[2:])\n",
        "plt.plot(acc_log)\n",
        "plt.plot(np.ones(len(acc_log)))\n",
        "plt.show()"
      ],
      "metadata": {
        "colab": {
          "base_uri": "https://localhost:8080/",
          "height": 676
        },
        "id": "gtRvEj5frP1D",
        "outputId": "b6575674-93cc-461f-dd29-5914ae02e913"
      },
      "execution_count": 235,
      "outputs": [
        {
          "output_type": "display_data",
          "data": {
            "text/plain": [
              "<Figure size 1000x800 with 1 Axes>"
            ],
            "image/png": "[encoded data removed]"
          },
          "metadata": {}
        }
      ]
    },
    {
      "cell_type": "code",
      "source": [
        "predictions = model(Variable(test_x))\n",
        "accuracy, correct, total = model.test(torch.max(predictions.data, 1)[1], test_y)\n",
        "print(\"Accuracy = \" + str(accuracy) + \" (\"+str(correct)+\"/\"+str(total)+\")\")"
      ],
      "metadata": {
        "colab": {
          "base_uri": "https://localhost:8080/"
        },
        "id": "5csGBLiQrYwS",
        "outputId": "28e06409-87b3-4d92-e008-d5f0ea485dd1"
      },
      "execution_count": 236,
      "outputs": [
        {
          "output_type": "stream",
          "name": "stdout",
          "text": [
            "Accuracy = 0.9949007466763795 (27315/27455)\n"
          ]
        }
      ]
    },
    {
      "cell_type": "markdown",
      "source": [
        "# Saving the Model"
      ],
      "metadata": {
        "id": "JJSoOkkQrk1w"
      }
    },
    {
      "cell_type": "code",
      "source": [
        "torch.save(model, 'model_trained.pt')"
      ],
      "metadata": {
        "id": "jP4YCB68rmY0"
      },
      "execution_count": 237,
      "outputs": []
    },
    {
      "cell_type": "code",
      "source": [],
      "metadata": {
        "id": "2CReMvCxsNXQ"
      },
      "execution_count": null,
      "outputs": []
    }
  ]
}